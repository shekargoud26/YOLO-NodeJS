{
 "cells": [
  {
   "cell_type": "code",
   "execution_count": 2,
   "metadata": {},
   "outputs": [
    {
     "name": "stdout",
     "output_type": "stream",
     "text": [
      "Python 3.7.3\r\n"
     ]
    }
   ],
   "source": [
    "!python --version"
   ]
  },
  {
   "cell_type": "code",
   "execution_count": 3,
   "metadata": {},
   "outputs": [
    {
     "ename": "ModuleNotFoundError",
     "evalue": "No module named 'tensorflow'",
     "output_type": "error",
     "traceback": [
      "\u001b[0;31m---------------------------------------------------------------------------\u001b[0m",
      "\u001b[0;31mModuleNotFoundError\u001b[0m                       Traceback (most recent call last)",
      "\u001b[0;32m<ipython-input-3-d6579f534729>\u001b[0m in \u001b[0;36m<module>\u001b[0;34m\u001b[0m\n\u001b[0;32m----> 1\u001b[0;31m \u001b[0;32mimport\u001b[0m \u001b[0mtensorflow\u001b[0m\u001b[0;34m\u001b[0m\u001b[0;34m\u001b[0m\u001b[0m\n\u001b[0m",
      "\u001b[0;31mModuleNotFoundError\u001b[0m: No module named 'tensorflow'"
     ]
    }
   ],
   "source": [
    "import tensorflow"
   ]
  },
  {
   "cell_type": "code",
   "execution_count": 12,
   "metadata": {
    "collapsed": true
   },
   "outputs": [
    {
     "name": "stdout",
     "output_type": "stream",
     "text": [
      "['/home/shekar/YOLO/annotations/39.xml', '/home/shekar/YOLO/annotations/28.xml', '/home/shekar/YOLO/annotations/10.xml', '/home/shekar/YOLO/annotations/30.xml', '/home/shekar/YOLO/annotations/32.xml', '/home/shekar/YOLO/annotations/6.xml', '/home/shekar/YOLO/annotations/27.xml', '/home/shekar/YOLO/annotations/1.xml', '/home/shekar/YOLO/annotations/18.xml', '/home/shekar/YOLO/annotations/16.xml', '/home/shekar/YOLO/annotations/25.xml', '/home/shekar/YOLO/annotations/17.xml', '/home/shekar/YOLO/annotations/14.xml', '/home/shekar/YOLO/annotations/21.xml', '/home/shekar/YOLO/annotations/8.xml', '/home/shekar/YOLO/annotations/3.xml', '/home/shekar/YOLO/annotations/4.xml', '/home/shekar/YOLO/annotations/31.xml', '/home/shekar/YOLO/annotations/40.xml', '/home/shekar/YOLO/annotations/7.xml', '/home/shekar/YOLO/annotations/9.xml', '/home/shekar/YOLO/annotations/13.xml', '/home/shekar/YOLO/annotations/42.xml', '/home/shekar/YOLO/annotations/41.xml', '/home/shekar/YOLO/annotations/11.xml', '/home/shekar/YOLO/annotations/23.xml', '/home/shekar/YOLO/annotations/36.xml', '/home/shekar/YOLO/annotations/38.xml', '/home/shekar/YOLO/annotations/43.xml', '/home/shekar/YOLO/annotations/29.xml', '/home/shekar/YOLO/annotations/33.xml', '/home/shekar/YOLO/annotations/24.xml', '/home/shekar/YOLO/annotations/15.xml', '/home/shekar/YOLO/annotations/34.xml', '/home/shekar/YOLO/annotations/20.xml', '/home/shekar/YOLO/annotations/45.xml', '/home/shekar/YOLO/annotations/26.xml', '/home/shekar/YOLO/annotations/19.xml', '/home/shekar/YOLO/annotations/5.xml', '/home/shekar/YOLO/annotations/12.xml', '/home/shekar/YOLO/annotations/2.xml', '/home/shekar/YOLO/annotations/44.xml', '/home/shekar/YOLO/annotations/37.xml', '/home/shekar/YOLO/annotations/22.xml']\n",
      "/home/shekar/YOLO/annotations/39.xml\n",
      "/home/shekar/YOLO/annotations/28.xml\n",
      "/home/shekar/YOLO/annotations/10.xml\n",
      "/home/shekar/YOLO/annotations/30.xml\n",
      "/home/shekar/YOLO/annotations/32.xml\n",
      "/home/shekar/YOLO/annotations/6.xml\n",
      "/home/shekar/YOLO/annotations/27.xml\n",
      "/home/shekar/YOLO/annotations/1.xml\n",
      "/home/shekar/YOLO/annotations/18.xml\n",
      "/home/shekar/YOLO/annotations/16.xml\n",
      "/home/shekar/YOLO/annotations/25.xml\n",
      "/home/shekar/YOLO/annotations/17.xml\n",
      "/home/shekar/YOLO/annotations/14.xml\n",
      "/home/shekar/YOLO/annotations/21.xml\n",
      "/home/shekar/YOLO/annotations/8.xml\n",
      "/home/shekar/YOLO/annotations/3.xml\n",
      "/home/shekar/YOLO/annotations/4.xml\n",
      "/home/shekar/YOLO/annotations/31.xml\n",
      "/home/shekar/YOLO/annotations/40.xml\n",
      "/home/shekar/YOLO/annotations/7.xml\n",
      "/home/shekar/YOLO/annotations/9.xml\n",
      "/home/shekar/YOLO/annotations/13.xml\n",
      "/home/shekar/YOLO/annotations/42.xml\n",
      "/home/shekar/YOLO/annotations/41.xml\n",
      "/home/shekar/YOLO/annotations/11.xml\n",
      "/home/shekar/YOLO/annotations/23.xml\n",
      "/home/shekar/YOLO/annotations/36.xml\n",
      "/home/shekar/YOLO/annotations/38.xml\n",
      "/home/shekar/YOLO/annotations/43.xml\n",
      "/home/shekar/YOLO/annotations/29.xml\n",
      "/home/shekar/YOLO/annotations/33.xml\n",
      "/home/shekar/YOLO/annotations/24.xml\n",
      "/home/shekar/YOLO/annotations/15.xml\n",
      "/home/shekar/YOLO/annotations/34.xml\n",
      "/home/shekar/YOLO/annotations/20.xml\n",
      "/home/shekar/YOLO/annotations/45.xml\n",
      "/home/shekar/YOLO/annotations/26.xml\n",
      "/home/shekar/YOLO/annotations/19.xml\n",
      "/home/shekar/YOLO/annotations/5.xml\n",
      "/home/shekar/YOLO/annotations/12.xml\n",
      "/home/shekar/YOLO/annotations/2.xml\n",
      "/home/shekar/YOLO/annotations/44.xml\n",
      "/home/shekar/YOLO/annotations/37.xml\n",
      "/home/shekar/YOLO/annotations/22.xml\n"
     ]
    }
   ],
   "source": [
    "from os import listdir\n",
    "from os.path import isfile, join\n",
    "\n",
    "mypath = \"/home/shekar/YOLO/annotations/\"\n",
    "onlyfiles = [f for f in listdir(mypath) if isfile(join(mypath, f))]\n",
    "\n",
    "#xmlfiles = os.listdir(\"/home/shekar/YOLO/annotations/\")\n",
    "fileswpath = []\n",
    "for p in onlyfiles:\n",
    "    fileswpath.append(  '/home/shekar/YOLO/annotations/' + p )\n",
    "\n",
    "print(fileswpath)\n",
    "for filein in fileswpath:\n",
    "\n",
    "    print(filein)\n",
    "    f = open(filein,'r')\n",
    "    filedata = f.read()\n",
    "    f.close()\n",
    "\n",
    "    newdata = filedata.replace(\"dataset\",\"images\")\n",
    "\n",
    "    f = open(filein,'w')\n",
    "    f.write(newdata)\n",
    "    f.close()"
   ]
  },
  {
   "cell_type": "code",
   "execution_count": null,
   "metadata": {},
   "outputs": [],
   "source": []
  }
 ],
 "metadata": {
  "kernelspec": {
   "display_name": "Python 3",
   "language": "python",
   "name": "python3"
  }
 },
 "nbformat": 4,
 "nbformat_minor": 2
}
